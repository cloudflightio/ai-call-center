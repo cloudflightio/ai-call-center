{
 "cells": [
  {
   "cell_type": "code",
   "execution_count": 1,
   "metadata": {},
   "outputs": [
    {
     "name": "stdout",
     "output_type": "stream",
     "text": [
      "There are 21484 products.\n"
     ]
    }
   ],
   "source": [
    "import pandas as pd\n",
    "\n",
    "# Install the Jupyter Package to be able to run notebooks!\n",
    "# Hint: Open the variables window to get an idea of what kind of product names are in the dataset\n",
    "\n",
    "products = pd.read_json('../data/products.json')\n",
    "    \n",
    "nof_products = len(products)\n",
    "products_sku_list = [int(sku) for sku in products['sku']]\n",
    "\n",
    "print(\"There are\", nof_products, \"products.\")"
   ]
  }
 ],
 "metadata": {
  "kernelspec": {
   "display_name": "Python 3",
   "language": "python",
   "name": "python3"
  },
  "language_info": {
   "codemirror_mode": {
    "name": "ipython",
    "version": 3
   },
   "file_extension": ".py",
   "mimetype": "text/x-python",
   "name": "python",
   "nbconvert_exporter": "python",
   "pygments_lexer": "ipython3",
   "version": "3.10.13"
  }
 },
 "nbformat": 4,
 "nbformat_minor": 2
}
